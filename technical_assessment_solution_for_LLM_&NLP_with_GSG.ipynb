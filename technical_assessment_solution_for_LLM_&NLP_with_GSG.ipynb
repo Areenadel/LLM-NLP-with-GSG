{
  "nbformat": 4,
  "nbformat_minor": 0,
  "metadata": {
    "colab": {
      "provenance": [],
      "authorship_tag": "ABX9TyMgEBpkvNSPIpx3WAagETDy",
      "include_colab_link": true
    },
    "kernelspec": {
      "name": "python3",
      "display_name": "Python 3"
    },
    "language_info": {
      "name": "python"
    }
  },
  "cells": [
    {
      "cell_type": "markdown",
      "metadata": {
        "id": "view-in-github",
        "colab_type": "text"
      },
      "source": [
        "<a href=\"https://colab.research.google.com/github/Areenadel/LLM-NLP-with-GSG/blob/main/technical_assessment_solution_for_LLM_%26NLP_with_GSG.ipynb\" target=\"_parent\"><img src=\"https://colab.research.google.com/assets/colab-badge.svg\" alt=\"Open In Colab\"/></a>"
      ]
    },
    {
      "cell_type": "markdown",
      "source": [
        "**Technical assessment**\n",
        "\n",
        "---\n",
        "\n",
        "\n",
        " Humans Talk, Machines Understand:\n",
        " LLM & NLP Mastery with GSG"
      ],
      "metadata": {
        "id": "fhX1mPMFySxi"
      }
    },
    {
      "cell_type": "markdown",
      "source": [
        "Task 1: Word Cleaner"
      ],
      "metadata": {
        "id": "H-O02_h5kKgK"
      }
    },
    {
      "cell_type": "code",
      "execution_count": null,
      "metadata": {
        "id": "4iIQmWszLJI-"
      },
      "outputs": [],
      "source": [
        "import string\n",
        "def preprocess_text(text):\n",
        "  \"\"\"preprocess_text() is a function converts the text to lowercase without any punctuation and stopwords, and return it as list of tokens\"\"\"\n",
        "\n",
        "  # Converting the text to lowercase\n",
        "  text = text.lower()\n",
        "\n",
        "  # Removing all punctuation\n",
        "  clean_text = ''.join([char for char in text if char not in string.punctuation])\n",
        "\n",
        "  # Splitting the text into words(tokens)\n",
        "  clean_list = clean_text.split()\n",
        "\n",
        "  # Removing common stopwords\n",
        "  stopwords = ['the', 'and', 'in', 'is', 'to', 'of']\n",
        "\n",
        "  final_list = [word for word in clean_list if word not in stopwords]\n",
        "\n",
        "  return final_list\n",
        "\n"
      ]
    },
    {
      "cell_type": "code",
      "source": [
        "text = \"The quick brown Fox jumps over the lazy dog in the park.\"\n",
        "processed_text = preprocess_text(text)\n",
        "processed_text"
      ],
      "metadata": {
        "colab": {
          "base_uri": "https://localhost:8080/"
        },
        "id": "IndfDFnC1h4l",
        "outputId": "943a2265-dd1a-4373-8f1b-b44b2e4256b9"
      },
      "execution_count": null,
      "outputs": [
        {
          "output_type": "execute_result",
          "data": {
            "text/plain": [
              "['quick', 'brown', 'fox', 'jumps', 'over', 'lazy', 'dog', 'park']"
            ]
          },
          "metadata": {},
          "execution_count": 35
        }
      ]
    },
    {
      "cell_type": "markdown",
      "source": [
        "Task 2: Word Frequency Counter"
      ],
      "metadata": {
        "id": "d0s-2hUdkUrl"
      }
    },
    {
      "cell_type": "code",
      "source": [
        "#Creating dictionary that shows how many times each words appears in processed_text in task 1\n",
        "dic_text = {word: processed_text.count(word) for word in processed_text}\n",
        "dic_text"
      ],
      "metadata": {
        "colab": {
          "base_uri": "https://localhost:8080/"
        },
        "id": "eDrmy9mUkIql",
        "outputId": "347b14aa-c633-4ff5-8475-700d3377fc49"
      },
      "execution_count": null,
      "outputs": [
        {
          "output_type": "execute_result",
          "data": {
            "text/plain": [
              "{'quick': 1,\n",
              " 'brown': 1,\n",
              " 'fox': 1,\n",
              " 'jumps': 1,\n",
              " 'over': 1,\n",
              " 'lazy': 1,\n",
              " 'dog': 1,\n",
              " 'park': 1}"
            ]
          },
          "metadata": {},
          "execution_count": 36
        }
      ]
    },
    {
      "cell_type": "markdown",
      "source": [
        "Task 3: Simple Sentiment Estimator"
      ],
      "metadata": {
        "id": "cfWjUKwwm5xf"
      }
    },
    {
      "cell_type": "code",
      "source": [
        "def sentiment_estimator(text):\n",
        "  \"\"\"sentiment_estimator() is a simple function that estimates wether a text is a positive, negative or neutral.\"\"\"\n",
        "\n",
        "  # Preprocess the text using the function in task 1\n",
        "  words = preprocess_text(text)\n",
        "\n",
        "  # Creating predefined lists of positive words\n",
        "  positive_words = ['good','happy','excellent']\n",
        "  # Creating predefined lists of negative words\n",
        "  negative_words = ['bad','sad','terrible']\n",
        "\n",
        "  # Initialize counter for positive and negative words\n",
        "  positive_counter, negative_counter = 0 , 0\n",
        "\n",
        "  # Counting positive and negative words in text\n",
        "  i = 0\n",
        "  while i < len(words):\n",
        "    word = words[i]\n",
        "\n",
        "    # Handling unusual cases(contain 'not') ex:\"not good\"\n",
        "    if word == 'not' and i+1 < len(words):\n",
        "      if words[i+1] in positive_words:\n",
        "        # Convert positive word to negative word because of 'not'\n",
        "        negative_counter += 1\n",
        "        # Skip the word following the 'not'\n",
        "        i += 2\n",
        "        continue\n",
        "\n",
        "      elif words[i+1] in negative_words:\n",
        "        # Convert negative word to positive word because of 'not'\n",
        "        positive_counter += 1\n",
        "        # Skip the word following the 'not'\n",
        "        i += 2\n",
        "        continue\n",
        "\n",
        "    # Handling usual cases\n",
        "    if word in positive_words:\n",
        "      positive_counter += 1\n",
        "    elif word in negative_words:\n",
        "      negative_counter += 1\n",
        "    i += 1\n",
        "\n",
        "  # Estimating the text based on the counters\n",
        "  if positive_counter > negative_counter:\n",
        "    return 'positive text'\n",
        "  elif positive_counter < negative_counter:\n",
        "    return 'negative text'\n",
        "  else:\n",
        "    return 'neutral text'\n",
        "\n"
      ],
      "metadata": {
        "id": "Z7SyZq7YnIZe"
      },
      "execution_count": null,
      "outputs": []
    },
    {
      "cell_type": "code",
      "source": [
        "text1 = 'you are good'\n",
        "sentiment_estimator(text1)"
      ],
      "metadata": {
        "colab": {
          "base_uri": "https://localhost:8080/",
          "height": 35
        },
        "id": "aDTzz-Rkt4IP",
        "outputId": "296f586c-f9de-4ea9-efb4-27794d380544"
      },
      "execution_count": null,
      "outputs": [
        {
          "output_type": "execute_result",
          "data": {
            "text/plain": [
              "'positive text'"
            ],
            "application/vnd.google.colaboratory.intrinsic+json": {
              "type": "string"
            }
          },
          "metadata": {},
          "execution_count": 23
        }
      ]
    },
    {
      "cell_type": "code",
      "source": [
        "text2 = 'you are not good'\n",
        "sentiment_estimator(text2)"
      ],
      "metadata": {
        "colab": {
          "base_uri": "https://localhost:8080/",
          "height": 35
        },
        "id": "dxg7ZE5QupWI",
        "outputId": "b3bd4dc1-c1a5-4dca-a968-2975672951f2"
      },
      "execution_count": null,
      "outputs": [
        {
          "output_type": "execute_result",
          "data": {
            "text/plain": [
              "'negative text'"
            ],
            "application/vnd.google.colaboratory.intrinsic+json": {
              "type": "string"
            }
          },
          "metadata": {},
          "execution_count": 27
        }
      ]
    },
    {
      "cell_type": "code",
      "source": [
        "text3 = 'you are bad'\n",
        "sentiment_estimator(text3)"
      ],
      "metadata": {
        "colab": {
          "base_uri": "https://localhost:8080/",
          "height": 35
        },
        "id": "fXEP4cEpuw41",
        "outputId": "a1f6ea9f-d426-4f9b-d716-c12ba67d0750"
      },
      "execution_count": null,
      "outputs": [
        {
          "output_type": "execute_result",
          "data": {
            "text/plain": [
              "'negative text'"
            ],
            "application/vnd.google.colaboratory.intrinsic+json": {
              "type": "string"
            }
          },
          "metadata": {},
          "execution_count": 28
        }
      ]
    },
    {
      "cell_type": "code",
      "source": [
        "text4 = 'you are not bad'\n",
        "sentiment_estimator(text4)"
      ],
      "metadata": {
        "colab": {
          "base_uri": "https://localhost:8080/",
          "height": 35
        },
        "id": "Bzb8S0Ofsg3T",
        "outputId": "a3b13424-9beb-4540-ae75-14eeaeaa8fac"
      },
      "execution_count": null,
      "outputs": [
        {
          "output_type": "execute_result",
          "data": {
            "text/plain": [
              "'positive text'"
            ],
            "application/vnd.google.colaboratory.intrinsic+json": {
              "type": "string"
            }
          },
          "metadata": {},
          "execution_count": 29
        }
      ]
    }
  ]
}